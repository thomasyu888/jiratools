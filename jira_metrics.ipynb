{
 "cells": [
  {
   "attachments": {},
   "cell_type": "markdown",
   "metadata": {},
   "source": [
    "## JIRA metrics\n",
    "This is a juypter notebook to walk through the steps required to pull down Jira sprint metrics"
   ]
  },
  {
   "cell_type": "code",
   "execution_count": null,
   "metadata": {},
   "outputs": [],
   "source": [
    "# these are your imports\n",
    "import os\n",
    "\n",
    "from jira import JIRA\n",
    "import jira\n",
    "import pandas as pd"
   ]
  },
  {
   "cell_type": "code",
   "execution_count": null,
   "metadata": {},
   "outputs": [],
   "source": [
    "# Configure JIRA python client and login with your\n",
    "# API token\n",
    "username = os.environ['JIRA_USERNAME']\n",
    "api_token = os.environ['JIRA_API_TOKEN']\n",
    "jira_client = JIRA(\n",
    "    server='https://sagebionetworks.jira.com/',\n",
    "    basic_auth=(username, api_token)\n",
    ")\n",
    "\n",
    "def get_issues_per_sprint(jira_client: JIRA, sprint: jira.resources.Sprint) -> pd.DataFrame:\n",
    "    \"\"\"\n",
    "    Get all issues in a sprint\n",
    "    This does NOT take into account the specific status of\n",
    "    an issue at the duration of the sprint\n",
    "    For example, an issue could be \"Waiting for review\" at the\n",
    "    end of the sprint, but can be \"Closed\" now. This will\n",
    "    skew the \"number of story points\" per engineer over time.\n",
    "\n",
    "    Args:\n",
    "        jira_client (JIRA): _description_\n",
    "        sprint (jira.resources.Sprint): _description_\n",
    "\n",
    "    Returns:\n",
    "        pd.DataFrame: all issues in a sprint\n",
    "    \"\"\"\n",
    "    result = []\n",
    "    issues = jira_client.search_issues(f\"sprint={sprint.id}\", maxResults=300)\n",
    "    for issue in issues:\n",
    "        issue_info = jira_client.issue(issue.id)\n",
    "        # issue_info.raw will get you the raw data\n",
    "        # issue_assignee = issue_info.fields.assignee.displayName\n",
    "        if issue_info.fields.assignee is not None:\n",
    "            issue_assignee = issue_info.fields.assignee.displayName\n",
    "        else:\n",
    "            issue_assignee = None\n",
    "        # Story points\n",
    "        issue_story_points = issue_info.raw['fields'].get(\"customfield_10014\")\n",
    "        # 'customfield_12105': '6.0',\n",
    "        # Status of ticket\n",
    "        issue_status = issue_info.fields.status.name\n",
    "        issue_summary = issue_info.fields.summary\n",
    "        issue_desc = issue_info.fields.description\n",
    "        issue_type_name = issue_info.fields.issuetype.name\n",
    "        # Target start\n",
    "        # issue_start_date = issue_info.fields.customfield_12113\n",
    "        # issue_due_date = issue_info.fields.duedate\n",
    "\n",
    "        result.append({\n",
    "            'sprint_id': sprint.id,\n",
    "            \"issuetype\": issue_type_name,\n",
    "            \"key\": issue.id,\n",
    "            \"summary\": issue_summary,\n",
    "            \"description\": issue_desc,\n",
    "            'status': issue_status,\n",
    "            \"assignee\": issue_assignee,\n",
    "            'story_points': issue_story_points,\n",
    "            \"sprint\": sprint.name,\n",
    "            # \"target_start\": issue_start_date,\n",
    "            # \"due_date\": issue_due_date\n",
    "        })\n",
    "    jira_issues_df = pd.DataFrame(result)\n",
    "    return jira_issues_df"
   ]
  },
  {
   "cell_type": "code",
   "execution_count": null,
   "metadata": {},
   "outputs": [],
   "source": [
    "# Get all sprints and issues\n",
    "# Board 189 is the DPE scrum board\n",
    "# BOard 228 is Synpy scrum board\n",
    "# board 190 is ETL\n",
    "all_sprints = jira_client.sprints(board_id=190)\n",
    "all_sprint_info = pd.DataFrame()\n",
    "for sprint in all_sprints:\n",
    "    if sprint.name.startswith(\"DPE\") and \"Sprint\" not in sprint.name and \"12.19.22\" not in sprint.name:\n",
    "        print(sprint.name)\n",
    "        df = get_issues_per_sprint(jira_client=jira_client, sprint=sprint)\n",
    "        all_sprint_info = pd.concat([all_sprint_info, df])"
   ]
  }
 ],
 "metadata": {
  "kernelspec": {
   "display_name": "jira",
   "language": "python",
   "name": "python3"
  },
  "language_info": {
   "codemirror_mode": {
    "name": "ipython",
    "version": 3
   },
   "file_extension": ".py",
   "mimetype": "text/x-python",
   "name": "python",
   "nbconvert_exporter": "python",
   "pygments_lexer": "ipython3",
   "version": "3.10.13"
  },
  "orig_nbformat": 4
 },
 "nbformat": 4,
 "nbformat_minor": 2
}
